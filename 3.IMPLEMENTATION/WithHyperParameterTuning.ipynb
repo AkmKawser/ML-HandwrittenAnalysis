{
 "cells": [
  {
   "cell_type": "code",
   "execution_count": 1,
   "metadata": {
    "scrolled": false
   },
   "outputs": [
    {
     "name": "stdout",
     "output_type": "stream",
     "text": [
      "          1/time      pressure      x-axis       y-axis     x-angle  \\\n",
      "0    6736.374270  22780.648380  725.602993  1073.877174   88.691460   \n",
      "1   11689.632090  20280.431240  556.469746  1013.487018  158.949492   \n",
      "2    6789.009217  22266.359550  547.216649  1103.126247  176.810061   \n",
      "3   15563.329530  22946.465630  599.937989  1104.160386   83.417263   \n",
      "4   15398.702990  21016.427180  704.151973  1029.172084  173.918024   \n",
      "5    8650.619723  23439.698850  582.888333  1110.676050   95.938934   \n",
      "6   10478.074960  19383.212880  661.973400  1070.453800  155.035968   \n",
      "7    5971.020111  23230.661010  686.243687  1055.274969  174.536732   \n",
      "8   16726.626340  25883.824930  688.877746  1055.345472  129.755634   \n",
      "9   10326.980620  24481.449710  690.010918  1069.217794  147.990279   \n",
      "10   9609.550090  29459.244530  802.135184  1074.980362  113.641220   \n",
      "11  23399.502670  24642.451210  666.613945  1033.087443  146.839337   \n",
      "12  10966.769900  21204.615430  685.447075  1103.190244  175.252962   \n",
      "13   9494.036544  16900.060250  570.127693  1059.868527  151.834964   \n",
      "14  20211.195330  25822.428010  610.218706  1103.252886  126.035649   \n",
      "15   6470.810928  19209.411680  442.422929  1045.575576  133.600724   \n",
      "16  13185.527570  11158.771140  892.909851   941.876903  205.706525   \n",
      "17  16179.130300  26257.254070  627.061105  1086.187844  131.812288   \n",
      "18   6424.405372  18396.913320  782.066733  1092.466396  151.829126   \n",
      "19  11240.290300  23916.265750  615.058511  1140.124376   72.486629   \n",
      "20   9425.178620  19500.829480  649.534928  1048.560483  150.510251   \n",
      "21   7205.291697  24749.141820  458.604662  1087.440344  119.290914   \n",
      "22   7946.509762  20270.178850  616.896634  1032.416227  165.129735   \n",
      "23   8013.286087  24982.285650  687.796368  1092.819881  146.412049   \n",
      "24   9177.967424  29274.879350  456.223075  1088.701627  156.107248   \n",
      "25   8472.891495  26568.170930  527.845169   929.724226  152.123386   \n",
      "26  11391.662360  16581.814980  678.969628  1022.589662  171.774339   \n",
      "27   9113.653486  19894.447830  670.378831  1097.957158  153.695320   \n",
      "28   8811.026854  21809.198890  754.338892  1046.529691  124.806011   \n",
      "29  16017.437120  23247.359270  669.883376  1121.361373  121.711975   \n",
      "30  14834.303630  21284.863520  530.736026  1137.705796  141.299906   \n",
      "31   8754.756616  18869.057010  765.766801  1015.597759  163.269772   \n",
      "32   6918.005927  20109.424480  694.532535  1077.007360  107.197316   \n",
      "33  17434.796110  26454.771360  585.252807  1163.309574   59.007968   \n",
      "34  11324.209740  25309.388580  565.641063  1071.393168  148.402256   \n",
      "35   7377.477485  21628.401740  976.940809  1061.560639  263.125779   \n",
      "36  14823.793780  28287.969520  574.989567  1167.992283   60.966188   \n",
      "37   9573.916439  20087.835200  558.351377   921.211114  125.858674   \n",
      "38  22239.600010  21142.455350  654.576307  1110.161993  152.961848   \n",
      "39  11332.861840  20661.350530  651.153972  1112.198340  134.756696   \n",
      "40   7759.594516  18908.806030  616.382803  1132.242052  163.405483   \n",
      "41   8396.142215   8346.324294  613.122367  1100.176403  119.683303   \n",
      "42   5943.068202  23883.513100  645.812940   949.184535  108.861912   \n",
      "43   7771.565807  27950.779370  659.064670  1087.871351  143.499929   \n",
      "44   8130.378971  23345.136820  656.828625  1051.143853  105.079177   \n",
      "45  17507.638430  22055.075320  661.249650  1061.830903  151.539064   \n",
      "46   5549.036187  20706.297810  725.044395  1175.946952  173.966330   \n",
      "47   9453.748914  27118.532020  673.339314   982.082897  163.497594   \n",
      "48  12744.545870  18839.978560  624.938175  1042.228812  144.803052   \n",
      "49   9015.916274  22046.336440  772.605289  1105.838324  139.886188   \n",
      "50  13005.401530  26885.793450  514.064532  1046.818583  149.670708   \n",
      "51   8738.235706  27620.403000  784.629961   982.071390  134.149270   \n",
      "52   6809.975119  27764.553800  665.853327  1041.202924  167.051164   \n",
      "\n",
      "       y-angle  class  \n",
      "0   651.114156      1  \n",
      "1   521.610071      1  \n",
      "2   469.285793      0  \n",
      "3   536.329265      1  \n",
      "4   422.860358      0  \n",
      "5   668.195016      1  \n",
      "6   557.467557      1  \n",
      "7   482.338849      1  \n",
      "8   597.789347      0  \n",
      "9   559.768570      0  \n",
      "10  684.494998      0  \n",
      "11  513.778209      1  \n",
      "12  516.699943      1  \n",
      "13  471.578462      0  \n",
      "14  623.741188      1  \n",
      "15  626.113527      1  \n",
      "16  389.515605      1  \n",
      "17  529.835462      0  \n",
      "18  538.643679      0  \n",
      "19  683.307296      1  \n",
      "20  585.762464      1  \n",
      "21  614.609058      1  \n",
      "22  572.510485      0  \n",
      "23  450.537666      0  \n",
      "24  633.330804      0  \n",
      "25  570.318578      1  \n",
      "26  426.293542      0  \n",
      "27  467.300776      1  \n",
      "28  561.852836      0  \n",
      "29  536.754698      1  \n",
      "30  493.286183      0  \n",
      "31  557.130738      0  \n",
      "32  500.156472      1  \n",
      "33  602.385061      1  \n",
      "34  545.571797      0  \n",
      "35  494.367352      0  \n",
      "36  554.453953      1  \n",
      "37  552.368248      1  \n",
      "38  525.207029      1  \n",
      "39  628.681047      0  \n",
      "40  480.289276      0  \n",
      "41  715.228921      1  \n",
      "42  551.510106      1  \n",
      "43  591.271418      0  \n",
      "44  676.447538      1  \n",
      "45  593.555435      0  \n",
      "46  533.532363      1  \n",
      "47  575.670103      0  \n",
      "48  516.398413      1  \n",
      "49  504.263021      0  \n",
      "50  522.807746      1  \n",
      "51  500.393817      0  \n",
      "52  504.542952      0  \n"
     ]
    },
    {
     "name": "stderr",
     "output_type": "stream",
     "text": [
      "C:\\Users\\lenovo\\Anaconda3\\lib\\site-packages\\sklearn\\ensemble\\weight_boosting.py:29: DeprecationWarning: numpy.core.umath_tests is an internal NumPy module and should not be imported. It will be removed in a future NumPy release.\n",
      "  from numpy.core.umath_tests import inner1d\n"
     ]
    }
   ],
   "source": [
    "# Load libraries\n",
    "import numpy\n",
    "from matplotlib import pyplot\n",
    "from pandas import set_option\n",
    "import pandas as pd  \n",
    "import seaborn as sbn\n",
    "from pandas.tools.plotting import scatter_matrix\n",
    "from sklearn.preprocessing import StandardScaler\n",
    "from sklearn.feature_selection import chi2\n",
    "from sklearn.feature_selection import SelectKBest\n",
    "from sklearn.model_selection import train_test_split\n",
    "from sklearn.model_selection import KFold\n",
    "from sklearn.model_selection import cross_val_score\n",
    "from sklearn.model_selection import GridSearchCV\n",
    "from sklearn.metrics import classification_report\n",
    "from sklearn.metrics import confusion_matrix\n",
    "from sklearn.metrics import accuracy_score\n",
    "from sklearn.pipeline import Pipeline\n",
    "from sklearn.linear_model import LogisticRegression\n",
    "from sklearn.tree import DecisionTreeClassifier\n",
    "from sklearn.neighbors import KNeighborsClassifier\n",
    "from sklearn.naive_bayes import GaussianNB\n",
    "from sklearn.svm import SVC\n",
    "from sklearn.ensemble import AdaBoostClassifier\n",
    "from sklearn.ensemble import GradientBoostingClassifier\n",
    "from sklearn.ensemble import RandomForestClassifier\n",
    "from sklearn.ensemble import ExtraTreesClassifier\n",
    "\n",
    "\n",
    "# Load dataset\n",
    "dataset = pd.read_csv('C:/Users/lenovo/Documents/thesisdataset.csv') \n",
    "print (dataset)\n"
   ]
  },
  {
   "cell_type": "code",
   "execution_count": 2,
   "metadata": {},
   "outputs": [
    {
     "name": "stdout",
     "output_type": "stream",
     "text": [
      "(53, 7)\n"
     ]
    }
   ],
   "source": [
    "#size of dataset\n",
    "print(dataset.shape)"
   ]
  },
  {
   "cell_type": "code",
   "execution_count": 3,
   "metadata": {},
   "outputs": [
    {
     "name": "stdout",
     "output_type": "stream",
     "text": [
      "1/time      float64\n",
      "pressure    float64\n",
      "x-axis      float64\n",
      "y-axis      float64\n",
      "x-angle     float64\n",
      "y-angle     float64\n",
      "class         int64\n",
      "dtype: object\n"
     ]
    }
   ],
   "source": [
    "#data type of each attribute\n",
    "print(dataset.dtypes)"
   ]
  },
  {
   "cell_type": "code",
   "execution_count": 4,
   "metadata": {},
   "outputs": [
    {
     "data": {
      "text/plain": [
       "1/time      0\n",
       "pressure    0\n",
       "x-axis      0\n",
       "y-axis      0\n",
       "x-angle     0\n",
       "y-angle     0\n",
       "class       0\n",
       "dtype: int64"
      ]
     },
     "execution_count": 4,
     "metadata": {},
     "output_type": "execute_result"
    }
   ],
   "source": [
    "#any missing value\n",
    "dataset.isnull().sum()"
   ]
  },
  {
   "cell_type": "code",
   "execution_count": 5,
   "metadata": {},
   "outputs": [
    {
     "name": "stdout",
     "output_type": "stream",
     "text": [
      "             1/time      pressure      x-axis       y-axis     x-angle  \\\n",
      "count     53.000000     53.000000   53.000000    53.000000   53.000000   \n",
      "mean   10877.838926  22431.357530  650.543095  1066.609042  141.086492   \n",
      "std     4247.808054   4113.768445  100.088584    56.447897   34.786012   \n",
      "min     5549.036187   8346.324294  442.422929   921.211114   59.007968   \n",
      "25%     7946.509762  20109.424480  585.252807  1042.228812  124.806011   \n",
      "50%     9453.748914  22266.359550  656.828625  1071.393168  146.839337   \n",
      "75%    13005.401530  25309.388580  688.877746  1103.190244  158.949492   \n",
      "max    23399.502670  29459.244530  976.940809  1175.946952  263.125779   \n",
      "\n",
      "          y-angle      class  \n",
      "count   53.000000  53.000000  \n",
      "mean   550.627495   0.528302  \n",
      "std     70.994268   0.503975  \n",
      "min    389.515605   0.000000  \n",
      "25%    504.263021   0.000000  \n",
      "50%    545.571797   1.000000  \n",
      "75%    593.555435   1.000000  \n",
      "max    715.228921   1.000000  \n"
     ]
    }
   ],
   "source": [
    "#Statistical description of dataset\n",
    "print(dataset.describe())"
   ]
  },
  {
   "cell_type": "code",
   "execution_count": 6,
   "metadata": {},
   "outputs": [
    {
     "name": "stdout",
     "output_type": "stream",
     "text": [
      "class\n",
      "0    25\n",
      "1    28\n",
      "dtype: int64\n"
     ]
    }
   ],
   "source": [
    "# class distribution\n",
    "print(dataset.groupby('class').size())"
   ]
  },
  {
   "cell_type": "code",
   "execution_count": 7,
   "metadata": {},
   "outputs": [
    {
     "data": {
      "image/png": "[encoded data removed]",
      "text/plain": [
       "<Figure size 432x288 with 1 Axes>"
      ]
     },
     "metadata": {
      "needs_background": "light"
     },
     "output_type": "display_data"
    }
   ],
   "source": [
    "# box and whisker plots for each attribute\n",
    "dataset.boxplot()\n",
    "pyplot.show()"
   ]
  },
  {
   "cell_type": "code",
   "execution_count": 8,
   "metadata": {},
   "outputs": [
    {
     "data": {
      "text/plain": [
       "<matplotlib.axes._subplots.AxesSubplot at 0x25da25ffcf8>"
      ]
     },
     "execution_count": 8,
     "metadata": {},
     "output_type": "execute_result"
    },
    {
     "data": {
      "image/png": "[encoded data removed]",
      "text/plain": [
       "<Figure size 432x288 with 2 Axes>"
      ]
     },
     "metadata": {
      "needs_background": "light"
     },
     "output_type": "display_data"
    }
   ],
   "source": [
    "#Finding Correlation\n",
    "sbn.heatmap(dataset[dataset.columns[0:10]].corr(),annot=True)"
   ]
  },
  {
   "cell_type": "code",
   "execution_count": 9,
   "metadata": {},
   "outputs": [],
   "source": [
    "# Split-out validation dataset\n",
    "X= dataset.iloc[ :, 0:6]    #coz target column chara amader 6 ta column ache. tai 0 theke 6 er ag porjonto X dhorbo.\n",
    "Y= dataset.iloc[ :,-1]    #etake ebhabeo likha zabe Y= df[ \"class\"] karon amader target column er name \"class\"\n",
    "validation_size = 0.30\n",
    "seed = 7\n",
    "X_train, X_validation, Y_train, Y_validation = train_test_split(X, Y,\n",
    "test_size=validation_size, random_state=seed)"
   ]
  },
  {
   "cell_type": "code",
   "execution_count": 10,
   "metadata": {},
   "outputs": [
    {
     "data": {
      "text/html": [
       "<div>\n",
       "<style scoped>\n",
       "    .dataframe tbody tr th:only-of-type {\n",
       "        vertical-align: middle;\n",
       "    }\n",
       "\n",
       "    .dataframe tbody tr th {\n",
       "        vertical-align: top;\n",
       "    }\n",
       "\n",
       "    .dataframe thead th {\n",
       "        text-align: right;\n",
       "    }\n",
       "</style>\n",
       "<table border=\"1\" class=\"dataframe\">\n",
       "  <thead>\n",
       "    <tr style=\"text-align: right;\">\n",
       "      <th></th>\n",
       "      <th>Specs</th>\n",
       "      <th>Score</th>\n",
       "    </tr>\n",
       "  </thead>\n",
       "  <tbody>\n",
       "    <tr>\n",
       "      <th>0</th>\n",
       "      <td>1/time</td>\n",
       "      <td>1561.251911</td>\n",
       "    </tr>\n",
       "    <tr>\n",
       "      <th>1</th>\n",
       "      <td>pressure</td>\n",
       "      <td>1095.263203</td>\n",
       "    </tr>\n",
       "    <tr>\n",
       "      <th>2</th>\n",
       "      <td>x-axis</td>\n",
       "      <td>51.570964</td>\n",
       "    </tr>\n",
       "    <tr>\n",
       "      <th>3</th>\n",
       "      <td>y-axis</td>\n",
       "      <td>0.028990</td>\n",
       "    </tr>\n",
       "    <tr>\n",
       "      <th>4</th>\n",
       "      <td>x-angle</td>\n",
       "      <td>57.926008</td>\n",
       "    </tr>\n",
       "    <tr>\n",
       "      <th>5</th>\n",
       "      <td>y-angle</td>\n",
       "      <td>19.635090</td>\n",
       "    </tr>\n",
       "  </tbody>\n",
       "</table>\n",
       "</div>"
      ],
      "text/plain": [
       "     Specs        Score \n",
       "0    1/time  1561.251911\n",
       "1  pressure  1095.263203\n",
       "2    x-axis    51.570964\n",
       "3    y-axis     0.028990\n",
       "4   x-angle    57.926008\n",
       "5   y-angle    19.635090"
      ]
     },
     "execution_count": 10,
     "metadata": {},
     "output_type": "execute_result"
    }
   ],
   "source": [
    "#feature selection\n",
    "bestfeatures = SelectKBest(score_func=chi2, k=5)\n",
    "fit = bestfeatures.fit(X,Y) \n",
    "bestfeatures = SelectKBest(score_func=chi2, k=5)\n",
    "fit = bestfeatures.fit(X,Y) \n",
    "dfscores = pd.DataFrame(fit.scores_)\n",
    "dfcolumns = pd.DataFrame(X.columns)\n",
    "featureScores = pd.concat([dfcolumns,dfscores],axis=1)\n",
    "featureScores.columns = [' Specs ',' Score ']\n",
    "featureScores"
   ]
  },
  {
   "cell_type": "code",
   "execution_count": 11,
   "metadata": {},
   "outputs": [
    {
     "name": "stdout",
     "output_type": "stream",
     "text": [
      "LR: 0.650000 (0.240947)\n",
      "KNN: 0.525000 (0.276511)\n",
      "CART: 0.608333 (0.223762)\n",
      "NB: 0.591667 (0.275000)\n",
      "SVM: 0.558333 (0.271442)\n"
     ]
    }
   ],
   "source": [
    "# Test options and evaluation metric\n",
    "num_folds = 10\n",
    "seed = 7\n",
    "scoring = 'accuracy'\n",
    "\n",
    "\n",
    "# Spot-Check Algorithms\n",
    "models = []\n",
    "models.append(('LR', LogisticRegression()))\n",
    "models.append(('KNN', KNeighborsClassifier()))\n",
    "models.append(('CART', DecisionTreeClassifier()))\n",
    "models.append(('NB', GaussianNB()))\n",
    "models.append(('SVM', SVC()))\n",
    "\n",
    "results = []\n",
    "names = []\n",
    "for name, model in models:\n",
    " kfold = KFold(n_splits=num_folds, random_state=seed)\n",
    " cv_results = cross_val_score(model, X_train, Y_train, cv=kfold, scoring=scoring)\n",
    " results.append(cv_results)\n",
    " names.append(name)\n",
    " msg = \"%s: %f (%f)\" % (name, cv_results.mean(), cv_results.std())\n",
    " print(msg)"
   ]
  },
  {
   "cell_type": "code",
   "execution_count": 12,
   "metadata": {},
   "outputs": [
    {
     "data": {
      "image/png": "[encoded data removed]",
      "text/plain": [
       "<Figure size 432x288 with 1 Axes>"
      ]
     },
     "metadata": {
      "needs_background": "light"
     },
     "output_type": "display_data"
    }
   ],
   "source": [
    "#comparison of algorithms using boxplot\n",
    "fig = pyplot.figure()\n",
    "fig.suptitle('Algorithm Comparison')\n",
    "ax = fig.add_subplot(111)\n",
    "pyplot.boxplot(results)\n",
    "ax.set_xticklabels(names)\n",
    "pyplot.show()"
   ]
  },
  {
   "cell_type": "code",
   "execution_count": 13,
   "metadata": {},
   "outputs": [
    {
     "name": "stdout",
     "output_type": "stream",
     "text": [
      "ScaledLR: 0.700000 (0.256038)\n",
      "ScaledKNN: 0.491667 (0.198781)\n",
      "ScaledCART: 0.541667 (0.194544)\n",
      "ScaledNB: 0.591667 (0.275000)\n",
      "ScaledSVM: 0.633333 (0.194365)\n"
     ]
    }
   ],
   "source": [
    "# Standardize the dataset\n",
    "pipelines = []\n",
    "pipelines.append(('ScaledLR', Pipeline([('Scaler', StandardScaler()),('LR',\n",
    "LogisticRegression())])))\n",
    "pipelines.append(('ScaledKNN', Pipeline([('Scaler', StandardScaler()),('KNN',\n",
    "KNeighborsClassifier())])))\n",
    "pipelines.append(('ScaledCART', Pipeline([('Scaler', StandardScaler()),('CART',\n",
    "DecisionTreeClassifier())])))\n",
    "pipelines.append(('ScaledNB', Pipeline([('Scaler', StandardScaler()),('NB',\n",
    "GaussianNB())])))\n",
    "pipelines.append(('ScaledSVM', Pipeline([('Scaler', StandardScaler()),('SVM', SVC())])))\n",
    "results = []\n",
    "names = []\n",
    "for name, model in pipelines:\n",
    " kfold = KFold(n_splits=num_folds, random_state=seed)\n",
    " cv_results = cross_val_score(model, X_train, Y_train, cv=kfold, scoring=scoring)\n",
    " results.append(cv_results)\n",
    " names.append(name)\n",
    " msg = \"%s: %f (%f)\" % (name, cv_results.mean(), cv_results.std())\n",
    " print(msg)"
   ]
  },
  {
   "cell_type": "code",
   "execution_count": 14,
   "metadata": {},
   "outputs": [
    {
     "data": {
      "image/png": "[encoded data removed]",
      "text/plain": [
       "<Figure size 432x288 with 1 Axes>"
      ]
     },
     "metadata": {
      "needs_background": "light"
     },
     "output_type": "display_data"
    }
   ],
   "source": [
    "# Comparing Algorithms on scaled data\n",
    "fig = pyplot.figure()\n",
    "fig.suptitle('Scaled Algorithm Comparison')\n",
    "ax = fig.add_subplot(111)\n",
    "pyplot.boxplot(results)\n",
    "ax.set_xticklabels(names)\n",
    "pyplot.show()"
   ]
  },
  {
   "cell_type": "code",
   "execution_count": 15,
   "metadata": {},
   "outputs": [
    {
     "name": "stdout",
     "output_type": "stream",
     "text": [
      "Best: 0.702703 using {'n_neighbors': 1}\n",
      "0.702703 (0.194269) with: {'n_neighbors': 1}\n",
      "0.648649 (0.207892) with: {'n_neighbors': 3}\n",
      "0.540541 (0.197223) with: {'n_neighbors': 5}\n",
      "0.648649 (0.207892) with: {'n_neighbors': 7}\n",
      "0.594595 (0.207011) with: {'n_neighbors': 9}\n",
      "0.648649 (0.238186) with: {'n_neighbors': 11}\n",
      "0.594595 (0.207011) with: {'n_neighbors': 13}\n",
      "0.594595 (0.311300) with: {'n_neighbors': 15}\n",
      "0.648649 (0.319026) with: {'n_neighbors': 17}\n",
      "0.594595 (0.288781) with: {'n_neighbors': 19}\n",
      "0.567568 (0.296272) with: {'n_neighbors': 21}\n"
     ]
    }
   ],
   "source": [
    "# Tuning scaled KNN\n",
    "scaler = StandardScaler().fit(X_train)\n",
    "rescaledX = scaler.transform(X_train)\n",
    "neighbors = [1,3,5,7,9,11,13,15,17,19,21]\n",
    "param_grid = dict(n_neighbors=neighbors)\n",
    "model = KNeighborsClassifier()\n",
    "kfold = KFold(n_splits=num_folds, random_state=seed)\n",
    "grid = GridSearchCV(estimator=model, param_grid=param_grid, scoring=scoring, cv=kfold)\n",
    "grid_result = grid.fit(rescaledX, Y_train)\n",
    "print(\"Best: %f using %s\" % (grid_result.best_score_, grid_result.best_params_))\n",
    "means = grid_result.cv_results_['mean_test_score']\n",
    "stds = grid_result.cv_results_['std_test_score']\n",
    "params = grid_result.cv_results_['params']\n",
    "for mean, stdev, param in zip(means, stds, params):\n",
    " print(\"%f (%f) with: %r\" % (mean, stdev, param))"
   ]
  },
  {
   "cell_type": "code",
   "execution_count": 16,
   "metadata": {},
   "outputs": [
    {
     "name": "stdout",
     "output_type": "stream",
     "text": [
      "Best: 0.729730 using {'C': 0.5, 'kernel': 'linear'}\n",
      "0.675676 (0.233931) with: {'C': 0.1, 'kernel': 'linear'}\n",
      "0.540541 (0.293589) with: {'C': 0.1, 'kernel': 'poly'}\n",
      "0.567568 (0.276615) with: {'C': 0.1, 'kernel': 'rbf'}\n",
      "0.567568 (0.276615) with: {'C': 0.1, 'kernel': 'sigmoid'}\n",
      "0.702703 (0.254495) with: {'C': 0.3, 'kernel': 'linear'}\n",
      "0.486486 (0.246228) with: {'C': 0.3, 'kernel': 'poly'}\n",
      "0.513514 (0.232102) with: {'C': 0.3, 'kernel': 'rbf'}\n",
      "0.621622 (0.224774) with: {'C': 0.3, 'kernel': 'sigmoid'}\n",
      "0.729730 (0.215229) with: {'C': 0.5, 'kernel': 'linear'}\n",
      "0.459459 (0.197223) with: {'C': 0.5, 'kernel': 'poly'}\n",
      "0.540541 (0.238569) with: {'C': 0.5, 'kernel': 'rbf'}\n",
      "0.594595 (0.251245) with: {'C': 0.5, 'kernel': 'sigmoid'}\n",
      "0.702703 (0.194269) with: {'C': 0.7, 'kernel': 'linear'}\n",
      "0.540541 (0.223960) with: {'C': 0.7, 'kernel': 'poly'}\n",
      "0.594595 (0.207011) with: {'C': 0.7, 'kernel': 'rbf'}\n",
      "0.702703 (0.254495) with: {'C': 0.7, 'kernel': 'sigmoid'}\n",
      "0.729730 (0.215229) with: {'C': 0.9, 'kernel': 'linear'}\n",
      "0.621622 (0.209205) with: {'C': 0.9, 'kernel': 'poly'}\n",
      "0.594595 (0.207011) with: {'C': 0.9, 'kernel': 'rbf'}\n",
      "0.702703 (0.254495) with: {'C': 0.9, 'kernel': 'sigmoid'}\n",
      "0.729730 (0.215229) with: {'C': 1.0, 'kernel': 'linear'}\n",
      "0.648649 (0.260756) with: {'C': 1.0, 'kernel': 'poly'}\n",
      "0.621622 (0.192380) with: {'C': 1.0, 'kernel': 'rbf'}\n",
      "0.675676 (0.273850) with: {'C': 1.0, 'kernel': 'sigmoid'}\n",
      "0.729730 (0.215229) with: {'C': 1.3, 'kernel': 'linear'}\n",
      "0.648649 (0.260756) with: {'C': 1.3, 'kernel': 'poly'}\n",
      "0.702703 (0.236132) with: {'C': 1.3, 'kernel': 'rbf'}\n",
      "0.702703 (0.279787) with: {'C': 1.3, 'kernel': 'sigmoid'}\n",
      "0.729730 (0.215229) with: {'C': 1.5, 'kernel': 'linear'}\n",
      "0.567568 (0.255449) with: {'C': 1.5, 'kernel': 'poly'}\n",
      "0.675676 (0.243368) with: {'C': 1.5, 'kernel': 'rbf'}\n",
      "0.675676 (0.308649) with: {'C': 1.5, 'kernel': 'sigmoid'}\n",
      "0.729730 (0.215229) with: {'C': 1.7, 'kernel': 'linear'}\n",
      "0.594595 (0.232626) with: {'C': 1.7, 'kernel': 'poly'}\n",
      "0.675676 (0.243368) with: {'C': 1.7, 'kernel': 'rbf'}\n",
      "0.621622 (0.266071) with: {'C': 1.7, 'kernel': 'sigmoid'}\n",
      "0.702703 (0.254495) with: {'C': 2.0, 'kernel': 'linear'}\n",
      "0.621622 (0.203751) with: {'C': 2.0, 'kernel': 'poly'}\n",
      "0.675676 (0.243368) with: {'C': 2.0, 'kernel': 'rbf'}\n",
      "0.594595 (0.276835) with: {'C': 2.0, 'kernel': 'sigmoid'}\n"
     ]
    }
   ],
   "source": [
    "# Tuning scaled SVM\n",
    "scaler = StandardScaler().fit(X_train)\n",
    "rescaledX = scaler.transform(X_train)\n",
    "c_values = [0.1, 0.3, 0.5, 0.7, 0.9, 1.0, 1.3, 1.5, 1.7, 2.0]\n",
    "kernel_values = ['linear', 'poly', 'rbf', 'sigmoid']\n",
    "param_grid = dict(C=c_values, kernel=kernel_values)\n",
    "model = SVC()\n",
    "kfold = KFold(n_splits=num_folds, random_state=seed)\n",
    "grid = GridSearchCV(estimator=model, param_grid=param_grid, scoring=scoring, cv=kfold)\n",
    "grid_result = grid.fit(rescaledX, Y_train)\n",
    "print(\"Best: %f using %s\" % (grid_result.best_score_, grid_result.best_params_))\n",
    "means = grid_result.cv_results_['mean_test_score']\n",
    "stds = grid_result.cv_results_['std_test_score']\n",
    "params = grid_result.cv_results_['params']\n",
    "for mean, stdev, param in zip(means, stds, params):\n",
    " print(\"%f (%f) with: %r\" % (mean, stdev, param))"
   ]
  },
  {
   "cell_type": "code",
   "execution_count": 17,
   "metadata": {},
   "outputs": [
    {
     "name": "stdout",
     "output_type": "stream",
     "text": [
      "AB: 0.683333 (0.210159)\n",
      "GBM: 0.633333 (0.194365)\n",
      "RF: 0.600000 (0.181812)\n",
      "ET: 0.625000 (0.242241)\n"
     ]
    }
   ],
   "source": [
    "# ensembles\n",
    "ensembles = []\n",
    "ensembles.append(('AB', AdaBoostClassifier()))\n",
    "ensembles.append(('GBM', GradientBoostingClassifier()))\n",
    "ensembles.append(('RF', RandomForestClassifier()))\n",
    "ensembles.append(('ET', ExtraTreesClassifier()))\n",
    "results = []\n",
    "names = []\n",
    "for name, model in ensembles:\n",
    " kfold = KFold(n_splits=num_folds, random_state=seed)\n",
    " cv_results = cross_val_score(model, X_train, Y_train, cv=kfold, scoring=scoring)\n",
    " results.append(cv_results)\n",
    " names.append(name)\n",
    " msg = \"%s: %f (%f)\" % (name, cv_results.mean(), cv_results.std())\n",
    " print(msg)"
   ]
  },
  {
   "cell_type": "code",
   "execution_count": 18,
   "metadata": {},
   "outputs": [
    {
     "name": "stdout",
     "output_type": "stream",
     "text": [
      "0.5625\n",
      "[[3 6]\n",
      " [1 6]]\n",
      "             precision    recall  f1-score   support\n",
      "\n",
      "          0       0.75      0.33      0.46         9\n",
      "          1       0.50      0.86      0.63         7\n",
      "\n",
      "avg / total       0.64      0.56      0.54        16\n",
      "\n"
     ]
    }
   ],
   "source": [
    "# prepare the model\n",
    "scaler = StandardScaler().fit(X_train)\n",
    "rescaledX = scaler.transform(X_train)\n",
    "model = SVC(C=1.5)\n",
    "model.fit(rescaledX, Y_train)\n",
    "# estimate accuracy on validation dataset\n",
    "rescaledValidationX = scaler.transform(X_validation)\n",
    "predictions = model.predict(rescaledValidationX)\n",
    "print(accuracy_score(Y_validation, predictions))\n",
    "print(confusion_matrix(Y_validation, predictions))\n",
    "print(classification_report(Y_validation, predictions))"
   ]
  },
  {
   "cell_type": "code",
   "execution_count": null,
   "metadata": {},
   "outputs": [],
   "source": []
  }
 ],
 "metadata": {
  "kernelspec": {
   "display_name": "Python 3",
   "language": "python",
   "name": "python3"
  },
  "language_info": {
   "codemirror_mode": {
    "name": "ipython",
    "version": 3
   },
   "file_extension": ".py",
   "mimetype": "text/x-python",
   "name": "python",
   "nbconvert_exporter": "python",
   "pygments_lexer": "ipython3",
   "version": "3.7.0"
  }
 },
 "nbformat": 4,
 "nbformat_minor": 2
}
